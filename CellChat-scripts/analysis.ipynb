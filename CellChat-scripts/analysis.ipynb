{
 "cells": [
  {
   "cell_type": "code",
   "execution_count": 1,
   "metadata": {},
   "outputs": [
    {
     "name": "stderr",
     "output_type": "stream",
     "text": [
      "/tmp/ipykernel_3799/2680056260.py:14: DeprecationWarning: The global conversion available with activate() is deprecated and will be removed in the next major release. Use a local converter.\n",
      "  anndata2ri.activate()\n"
     ]
    }
   ],
   "source": [
    "import pandas as pd\n",
    "import os\n",
    "from anndata import AnnData, read_h5ad\n",
    "import seaborn as sns\n",
    "import scanpy as sc\n",
    "import matplotlib.pyplot as plt\n",
    "import numpy as np\n",
    "from collections import Counter\n",
    "import pandas as pd\n",
    "import numpy as np\n",
    "import rpy2.robjects as robjects\n",
    "from rpy2.robjects.packages import importr\n",
    "import anndata2ri\n",
    "anndata2ri.activate()\n",
    "from anndata import AnnData\n",
    "from typing import Union\n",
    "\n",
    "from scipy.sparse import csr_matrix, csc_matrix\n",
    "\n",
    "import warnings\n",
    "warnings.filterwarnings(\"ignore\")\n",
    "\n",
    "sns.set_color_codes()"
   ]
  },
  {
   "cell_type": "code",
   "execution_count": 2,
   "metadata": {},
   "outputs": [],
   "source": [
    "# Load count matrix from CSV file\n",
    "data_dir = os.path.expanduser(\"./\")\n",
    "csv_file = os.path.join(data_dir, \"filtered.SF.df.csv\")\n",
    "h5_file = os.path.join(data_dir, \"adata.h5ad\")\n",
    "\n",
    "# Function to load csv file into anndata object - only called if the adata object has not already been saved as .h5ad\n",
    "def load_csv_data() -> AnnData:\n",
    "    \"\"\"\n",
    "    Process publicly available data files into usable anndata object. On my machine this runs in about 100 seconds.\n",
    "    \"\"\"\n",
    "    df = pd.read_csv(csv_file, index_col=0, header=0)\n",
    "    obs_names = df.columns\n",
    "    var_names = df.index\n",
    "    # Compress matrix into sparse representation\n",
    "    X = csc_matrix(df.to_numpy()).transpose()\n",
    "    \n",
    "    var = pd.DataFrame(index=var_names)\n",
    "    obs = pd.DataFrame(index=obs_names)\n",
    "    adata = AnnData(X=X, var=var, obs=obs)\n",
    "\n",
    "    del df\n",
    "\n",
    "    # Load cluster annotations from separate file\n",
    "    with open(\"data.xlsx\", 'rb') as file:\n",
    "        annotation_df = pd.read_excel(file, sheet_name=\"Cluster annotation-Fig1B-C\", header=0, index_col=0)\n",
    "    annotation_df['Cluster number'] = pd.Categorical(annotation_df['Cluster number'].astype(np.int_))\n",
    "    cluster_names = {\n",
    "        1: \"B-cell\",\n",
    "        2: \"Plasma cell\",\n",
    "        3: \"Monocyte/Macrophage\",\n",
    "        4: \"Dendritic cell\",\n",
    "        5: \"Lymphocyte\",\n",
    "        6: \"Exhausted CD8+ T-cell\",\n",
    "        7: \"Regulatory T-cell\",\n",
    "        8: \"Cytotoxicity (Lymphocytes)\",\n",
    "        9: \"Exhausted/HS CD8+ T-cell\",\n",
    "        10: \"Memory T-cell\",\n",
    "        11: \"Lymphocytes exhausted/cell-cycle\"\n",
    "    }\n",
    "    annotation_df['group'] = annotation_df['Cluster number'].map(cluster_names)\n",
    "\n",
    "    # Remove some extra tags from the labels here\n",
    "    annotation_df.index = [v.removesuffix(\"_DP1\").removesuffix(\"_DP\").removesuffix(\"_DN\") for v in annotation_df.index]\n",
    "\n",
    "    # This splits the based on a '_' delimiter (first entry is pre vs post, second is patient ID, remainder is cell name + other stuff)\n",
    "    obs_data = [v.split('_') for v in list(obs_names)]\n",
    "    # Massage the cell name out of the remaining stuff\n",
    "    pre_post = [v[0] for v in obs_data]\n",
    "    patient = [v[1] for v in obs_data]\n",
    "    cell_name = ['_'.join(v[2:]).removeprefix(\"2_\").removesuffix('_myeloid_enriched').replace('.', '-') for v in obs_data]\n",
    "    ind1 = [v.removesuffix(\"_T_enriched\") for v in cell_name]\n",
    "    duplicate_prefix = {item for item, count in Counter(ind1).items() if count > 1}\n",
    "    cell_name = [v.replace('_T_enriched', \"_DN1\") if v.removesuffix(\"_T_enriched\") in duplicate_prefix \n",
    "                    else v.removesuffix(\"_T_enriched\") for v in cell_name]\n",
    "    annotation_df.index = [v.removesuffix(\"_DN1\") if v.removesuffix(\"_DN1\") not in duplicate_prefix else v for v in annotation_df.index]\n",
    "\n",
    "    # Assign column names and convert to categorical\n",
    "    obs_data = {\n",
    "        \"pre_post\": pre_post,\n",
    "        \"patient\": patient,\n",
    "        \"label\": obs_names\n",
    "    }\n",
    "\n",
    "    # Convert to dataframe and write into adata\n",
    "    data_df = pd.DataFrame(obs_data, index=cell_name)\n",
    "    obs_df = data_df.join(annotation_df)\n",
    "    adata.obs = obs_df\n",
    "\n",
    "    # Basic pre-analysis\n",
    "    sc.pp.highly_variable_genes(adata, n_top_genes=2000, subset=False)\n",
    "    sc.pp.pca(adata, n_comps=50)\n",
    "    sc.pp.neighbors(adata)\n",
    "    sc.tl.umap(adata)\n",
    "\n",
    "    # Cache for later\n",
    "    adata.write_h5ad(h5_file)\n",
    "    \n",
    "    return adata\n",
    "\n",
    "try:\n",
    "    # Uncomment to force regeneration from original files\n",
    "    #raise FileNotFoundError\n",
    "    adata = read_h5ad(h5_file)\n",
    "except (FileNotFoundError, OSError) as e:\n",
    "    adata = load_csv_data()"
   ]
  },
  {
   "cell_type": "code",
   "execution_count": 3,
   "metadata": {},
   "outputs": [],
   "source": [
    "def save_data_as_rds(adata: AnnData, savename: str, group_by: str = \"class\"):\n",
    "    # converter does not currently seem to support sparse matrix entries\n",
    "    adata = adata.copy()\n",
    "    try:\n",
    "        adata.X = adata.X.todense()\n",
    "    except AttributeError:\n",
    "        pass\n",
    "\n",
    "    # get rid of extraneous columns that may not convert properly anyway\n",
    "    adata.obs = adata.obs.loc[:, [group_by]]\n",
    "\n",
    "    robjects.r('''\n",
    "                f <- function(s, pos=NULL) {\n",
    "                    library(CellChat)\n",
    "                    assay(s, \"logcounts\") = assay(s, \"X\")\n",
    "\n",
    "                    cellchat <- createCellChat(object = s, group.by = \"%s\")\n",
    "\n",
    "                    saveRDS(cellchat, \"%s\")\n",
    "                }\n",
    "            ''' %(group_by, savename))\n",
    "\n",
    "\n",
    "    robjects.r['f'](adata)"
   ]
  },
  {
   "cell_type": "code",
   "execution_count": 4,
   "metadata": {},
   "outputs": [],
   "source": [
    "# In order to be able to analyze the pre and post treatment groups separately\n",
    "adata_pre = adata[adata.obs['pre_post'] == 'Pre'].copy()\n",
    "adata_post = adata[adata.obs['pre_post'] == 'Post'].copy()"
   ]
  },
  {
   "cell_type": "code",
   "execution_count": 5,
   "metadata": {},
   "outputs": [
    {
     "data": {
      "text/plain": [
       "(3795, 55737)"
      ]
     },
     "execution_count": 5,
     "metadata": {},
     "output_type": "execute_result"
    }
   ],
   "source": [
    "adata_pre.shape"
   ]
  },
  {
   "cell_type": "code",
   "execution_count": 6,
   "metadata": {},
   "outputs": [],
   "source": [
    "save_data_as_rds(adata_pre, \"cellchat_pre.rds\", group_by=\"group\")"
   ]
  },
  {
   "cell_type": "code",
   "execution_count": 7,
   "metadata": {},
   "outputs": [],
   "source": [
    "save_data_as_rds(adata_post, \"cellchat_post.rds\", group_by=\"group\")"
   ]
  },
  {
   "cell_type": "code",
   "execution_count": 8,
   "metadata": {},
   "outputs": [
    {
     "name": "stdout",
     "output_type": "stream",
     "text": [
      "(55737,)\n"
     ]
    }
   ],
   "source": [
    "from scipy.stats import mannwhitneyu\n",
    "from statsmodels.stats.multitest import fdrcorrection\n",
    "\n",
    "x = adata_pre[adata_pre.obs.group == \"Memory T-cell\", :].X.toarray()\n",
    "y = adata_post[adata_post.obs.group == \"Memory T-cell\", :].X.toarray()\n",
    "_, p = mannwhitneyu(x=x, y=y)\n",
    "print(p.shape)"
   ]
  },
  {
   "cell_type": "code",
   "execution_count": 9,
   "metadata": {},
   "outputs": [],
   "source": [
    "p = pd.Series(p, index=adata.var_names)"
   ]
  },
  {
   "cell_type": "code",
   "execution_count": 10,
   "metadata": {},
   "outputs": [
    {
     "data": {
      "text/html": [
       "<div>\n",
       "<style scoped>\n",
       "    .dataframe tbody tr th:only-of-type {\n",
       "        vertical-align: middle;\n",
       "    }\n",
       "\n",
       "    .dataframe tbody tr th {\n",
       "        vertical-align: top;\n",
       "    }\n",
       "\n",
       "    .dataframe thead th {\n",
       "        text-align: right;\n",
       "    }\n",
       "</style>\n",
       "<table border=\"1\" class=\"dataframe\">\n",
       "  <thead>\n",
       "    <tr style=\"text-align: right;\">\n",
       "      <th></th>\n",
       "      <th>log2(fc)</th>\n",
       "    </tr>\n",
       "    <tr>\n",
       "      <th>ligand</th>\n",
       "      <th></th>\n",
       "    </tr>\n",
       "  </thead>\n",
       "  <tbody>\n",
       "    <tr>\n",
       "      <th>CXCL2</th>\n",
       "      <td>4.797643</td>\n",
       "    </tr>\n",
       "    <tr>\n",
       "      <th>NEGR1</th>\n",
       "      <td>4.380113</td>\n",
       "    </tr>\n",
       "    <tr>\n",
       "      <th>C3</th>\n",
       "      <td>2.825721</td>\n",
       "    </tr>\n",
       "    <tr>\n",
       "      <th>SPP1</th>\n",
       "      <td>2.578302</td>\n",
       "    </tr>\n",
       "    <tr>\n",
       "      <th>CCL20</th>\n",
       "      <td>2.446743</td>\n",
       "    </tr>\n",
       "    <tr>\n",
       "      <th>...</th>\n",
       "      <td>...</td>\n",
       "    </tr>\n",
       "    <tr>\n",
       "      <th>KITLG</th>\n",
       "      <td>-2.771640</td>\n",
       "    </tr>\n",
       "    <tr>\n",
       "      <th>NFASC</th>\n",
       "      <td>-3.336903</td>\n",
       "    </tr>\n",
       "    <tr>\n",
       "      <th>NCAM1</th>\n",
       "      <td>-4.009729</td>\n",
       "    </tr>\n",
       "    <tr>\n",
       "      <th>WNT5A</th>\n",
       "      <td>-4.068209</td>\n",
       "    </tr>\n",
       "    <tr>\n",
       "      <th>GDF7</th>\n",
       "      <td>-4.865288</td>\n",
       "    </tr>\n",
       "  </tbody>\n",
       "</table>\n",
       "<p>98 rows × 1 columns</p>\n",
       "</div>"
      ],
      "text/plain": [
       "        log2(fc)\n",
       "ligand          \n",
       "CXCL2   4.797643\n",
       "NEGR1   4.380113\n",
       "C3      2.825721\n",
       "SPP1    2.578302\n",
       "CCL20   2.446743\n",
       "...          ...\n",
       "KITLG  -2.771640\n",
       "NFASC  -3.336903\n",
       "NCAM1  -4.009729\n",
       "WNT5A  -4.068209\n",
       "GDF7   -4.865288\n",
       "\n",
       "[98 rows x 1 columns]"
      ]
     },
     "execution_count": 10,
     "metadata": {},
     "output_type": "execute_result"
    }
   ],
   "source": [
    "commprob = pd.read_csv(\"commprob_fc.csv\", index_col=0, header=0, usecols=[1, 2])\n",
    "commprob"
   ]
  },
  {
   "cell_type": "code",
   "execution_count": 11,
   "metadata": {},
   "outputs": [],
   "source": [
    "p = p[commprob.index]\n",
    "commprob['-log10(p)'] = -np.log10(p)"
   ]
  },
  {
   "cell_type": "code",
   "execution_count": 12,
   "metadata": {},
   "outputs": [],
   "source": [
    "def volcano(\n",
    "    df,\n",
    "    interaction=None,\n",
    "    gene_list=None,\n",
    "    ax=None,\n",
    "    show=True,\n",
    "    xlim=None,\n",
    "    ylim=None,\n",
    "    axis_labels=True,\n",
    "    fc_cutoff=0,\n",
    "    p_cutoff=2,\n",
    "    fontsize=None,\n",
    "    xoffset=0,\n",
    "    yoffset=0.5,\n",
    "    marker=None,\n",
    "    title=None,\n",
    "    **kwargs,\n",
    "):\n",
    "    if interaction is not None:\n",
    "        # filter out the actual genes from the interaction\n",
    "        ligand, receptor = interaction.split(\"_\")\n",
    "        ligand = ligand.capitalize()\n",
    "        receptor = receptor.capitalize()\n",
    "        df = df.drop(index=ligand).drop(index=receptor)\n",
    "    x = df[\"log2(fc)\"]\n",
    "    y = df[\"-log10(p)\"]\n",
    "\n",
    "    # for coloring points based on significance\n",
    "    hue = np.zeros(shape=x.shape)\n",
    "    hue[np.logical_and(x > fc_cutoff, y > p_cutoff)] = 1\n",
    "    hue[np.logical_and(x < -fc_cutoff, y > p_cutoff)] = 2\n",
    "    palette = []\n",
    "    if 0 in hue:\n",
    "        palette.append(sns.color_palette(\"muted\")[7])\n",
    "        # palette.append(\"gray\")\n",
    "    if 1 in hue:\n",
    "        palette.append(sns.color_palette(\"muted\")[3])\n",
    "        # palette.append(\"red\")\n",
    "    if 2 in hue:\n",
    "        palette.append(sns.color_palette(\"muted\")[0])\n",
    "        # palette.append(\"blue\")\n",
    "\n",
    "    # For indicating a subset of genes using a different marker\n",
    "    style = None\n",
    "    if marker is not None:\n",
    "        style = np.zeros(len(x), dtype=np.int32)\n",
    "        for idx in range(len(x)):\n",
    "            style[idx] = df.index[idx] in marker\n",
    "\n",
    "    ax = sns.scatterplot(\n",
    "        x=x,\n",
    "        y=y,\n",
    "        hue=hue,\n",
    "        palette=palette,\n",
    "        legend=None,\n",
    "        ax=ax,\n",
    "        style=style,\n",
    "        markers=[\"o\", \"^\"],\n",
    "        **kwargs,\n",
    "    )\n",
    "\n",
    "    for i, row in df.iterrows():\n",
    "        x = row[\"log2(fc)\"]\n",
    "        y = row[\"-log10(p)\"]\n",
    "        if gene_list is not None and (gene_list is True or i in gene_list):\n",
    "            # gene_list can be either a list or a dictionary containing offsets\n",
    "            try:\n",
    "                gene_xoffset, gene_yoffset = gene_list[i]\n",
    "            except TypeError:\n",
    "                gene_xoffset, gene_yoffset = xoffset, yoffset\n",
    "            ax.text(\n",
    "                x + gene_xoffset,\n",
    "                y + gene_yoffset,\n",
    "                i,\n",
    "                fontsize=fontsize,\n",
    "                horizontalalignment=\"right\",\n",
    "            )\n",
    "\n",
    "    if xlim is not None:\n",
    "        ax.set_xlim(xlim)\n",
    "    if ylim is not None:\n",
    "        ax.set_ylim(ylim)\n",
    "\n",
    "    if not axis_labels:\n",
    "        ax.set_xlabel(\"\")\n",
    "        ax.set_ylabel(\"\")\n",
    "    else:\n",
    "        ax.set_xlabel(\"log2(fc)\", size=fontsize)\n",
    "        ax.set_ylabel(\"-log10(p)\", size=fontsize)\n",
    "    plt.xticks(size=fontsize)\n",
    "    plt.yticks(size=fontsize)\n",
    "\n",
    "    # TODO: titles\n",
    "    if title is not None:\n",
    "        ax.set_title(title)\n",
    "    elif interaction is not None:\n",
    "        ax.set_title(\" - \".join([v.capitalize() for v in interaction.split(\"_\")]))\n",
    "    if show:\n",
    "        plt.show()\n",
    "\n",
    "    return ax"
   ]
  },
  {
   "cell_type": "code",
   "execution_count": 13,
   "metadata": {},
   "outputs": [
    {
     "data": {
      "text/plain": [
       "<matplotlib.lines.Line2D at 0x7f35d2895a20>"
      ]
     },
     "execution_count": 13,
     "metadata": {},
     "output_type": "execute_result"
    },
    {
     "data": {
      "image/png": "[encoded data removed]",
      "text/plain": [
       "<Figure size 500x350 with 1 Axes>"
      ]
     },
     "metadata": {},
     "output_type": "display_data"
    }
   ],
   "source": [
    "fig, ax = plt.subplots(1, 1, figsize=[5, 3.5])\n",
    "volcano(commprob, ax=ax, fc_cutoff=1, show=False, gene_list=\"IL2\")\n",
    "ax.axhline(y=2.0, color=\"black\", ls='--')\n",
    "ax.axvline(x=1.0, color=\"black\", ls='--')\n",
    "ax.axvline(x=-1.0, color=\"black\", ls='--')\n",
    "#fig.savefig(\"volcano.pdf\", dpi=300, transparent=True, bbox_inches=\"tight\")"
   ]
  }
 ],
 "metadata": {
  "kernelspec": {
   "display_name": "sfcc4",
   "language": "python",
   "name": "python3"
  },
  "language_info": {
   "codemirror_mode": {
    "name": "ipython",
    "version": 3
   },
   "file_extension": ".py",
   "mimetype": "text/x-python",
   "name": "python",
   "nbconvert_exporter": "python",
   "pygments_lexer": "ipython3",
   "version": "3.10.14"
  },
  "vscode": {
   "interpreter": {
    "hash": "ef4273fc88673f93a1775cf75a774deee79d6310a8fd04288df5cc127e578102"
   }
  }
 },
 "nbformat": 4,
 "nbformat_minor": 2
}
